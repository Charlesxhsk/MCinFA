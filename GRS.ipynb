{
 "cells": [
  {
   "cell_type": "markdown",
   "metadata": {},
   "source": [
    "# Generating Random Samples"
   ]
  },
  {
   "cell_type": "markdown",
   "metadata": {},
   "source": [
    "## Inversion method\n",
    "\n",
    "If we want to simulate a sample $x$ of the RV $X$, which follows the distribution function $F_X(x)$\n",
    "\n",
    "1. Calculate the inverse function of $F_X(x)$, $F^{-1}_X(x)$. We may need to use the definition of *generalized inverse* of $F$:\n",
    "\n",
    "    $F^{-1}(u):=inf\\{x:F(x)\\geq u\\}\\, for\\,0<u<1$\n",
    "2. Generate a smaple $u$ from Uniform distribution $U\\sim U(0,1)$\n",
    "3. Set $x:=F^{-1}_X(u)$"
   ]
  },
  {
   "cell_type": "markdown",
   "metadata": {},
   "source": [
    "### Example\n",
    "\n",
    "We want to simulate the exponential distribution with $\\lambda = 1$ *i.e* $F(x)=1-e^{\\lambda x}$, $x>0$\n",
    "1. the inverse distribution function is $F^{-1}_X(y)=\\frac{-ln(1-y)}{\\lambda}$\n",
    "2. $U\\sim U(0,1)$\n",
    "3. $x :=F^{-1}_X(u)=\\frac{-ln(1-u)}{\\lambda}$"
   ]
  },
  {
   "cell_type": "code",
   "execution_count": 12,
   "metadata": {},
   "outputs": [],
   "source": [
    "import numpy as np\n",
    "import matplotlib.pyplot as plt\n",
    "\n",
    "lamda = 1\n",
    "N = 100000\n",
    "\n",
    "x = np.random.exponential(scale = lamda, size = (1,N))\n",
    "\n",
    "def inv_F(u):\n",
    "    return -np.log(1-u) / lamda\n",
    "\n",
    "def main():\n",
    "    u = np.random.rand(1,N)\n",
    "    return(inv_F(u))\n",
    "\n",
    "x_hat = main()\n",
    "\n",
    "plt.hist(x_hat, bins = 150, density=True)\n",
    "plt.show()\n",
    "\n"
   ]
  },
  {
   "cell_type": "code",
   "execution_count": null,
   "metadata": {},
   "outputs": [],
   "source": []
  }
 ],
 "metadata": {
  "interpreter": {
   "hash": "a8f61be024eba58adef938c9aa1e29e02cb3dece83a5348b1a2dafd16a070453"
  },
  "kernelspec": {
   "display_name": "Python 3.8.8 ('base')",
   "language": "python",
   "name": "python3"
  },
  "language_info": {
   "codemirror_mode": {
    "name": "ipython",
    "version": 3
   },
   "file_extension": ".py",
   "mimetype": "text/x-python",
   "name": "python",
   "nbconvert_exporter": "python",
   "pygments_lexer": "ipython3",
   "version": "3.8.8"
  },
  "orig_nbformat": 4
 },
 "nbformat": 4,
 "nbformat_minor": 2
}
